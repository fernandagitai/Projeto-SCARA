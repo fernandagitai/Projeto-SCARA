{
 "cells": [
  {
   "cell_type": "code",
   "execution_count": 1,
   "metadata": {},
   "outputs": [],
   "source": [
    "import numpy as np\n",
    "import math\n",
    "import roboticstoolbox as rtb\n",
    "import matplotlib.pyplot as plt\n",
    "from sympy import Symbol, simplify, sin, cos, pprint, pi, Matrix, symbols, latex\n",
    "\n",
    "theta1 = symbols(\"theta_1\")\n",
    "theta2 = symbols(\"theta_2\")\n",
    "theta3 = symbols(\"theta_3\")\n",
    "d4 = symbols(\"d_4\")\n",
    "offset_default = symbols(\"h\")\n",
    "from sympy.physics.mechanics import dynamicsymbols, init_vprinting\n",
    "import IPython.display as disp\n",
    "\n",
    "\n",
    "def RX(theta):\n",
    "\n",
    "    mat = [\n",
    "        [1, 0, 0, 0],\n",
    "        [0, cos(theta), -sin(theta), 0],\n",
    "        [0, sin(theta), cos(theta), 0],\n",
    "        [0, 0, 0, 1],\n",
    "    ]\n",
    "    return Matrix(mat)\n",
    "\n",
    "\n",
    "def RZ(theta):\n",
    "    mat = [\n",
    "        [cos(theta), -sin(theta), 0, 0],\n",
    "        [sin(theta), cos(theta), 0, 0],\n",
    "        [0, 0, 1, 0],\n",
    "        [0, 0, 0, 1],\n",
    "    ]\n",
    "    return Matrix(mat)\n",
    "\n",
    "\n",
    "def TX(d):\n",
    "    mat = [[1, 0, 0, d], [0, 1, 0, 0], [0, 0, 1, 0], [0, 0, 0, 1]]\n",
    "    return Matrix(mat)\n",
    "\n",
    "\n",
    "def TZ(d):\n",
    "    mat = [[1, 0, 0, 0], [0, 1, 0, 0], [0, 0, 1, d], [0, 0, 0, 1]]\n",
    "    return Matrix(mat)\n",
    "\n",
    "\n",
    "def show_exp(exp):\n",
    "    disp.display(disp.Math(latex(exp)))\n",
    "\n",
    "\n",
    "def MTIJ(theta, d, a, alpha, i, j, offset=0):\n",
    "    disp.display(disp.Math(latex(symbols((f\"T_{i}^{j}~~= \")))))\n",
    "    if theta == 0:\n",
    "        return simplify(RZ(0) @ TZ(d + offset) @ TX(0) @ RX(0))\n",
    "\n",
    "    return simplify(RZ(theta + offset) @ TZ(d) @ TX(a) @ RX(alpha))\n",
    "    print(\"\\n\")\n"
   ]
  },
  {
   "cell_type": "code",
   "execution_count": 3,
   "metadata": {},
   "outputs": [
    {
     "data": {
      "text/latex": [
       "$\\displaystyle T^{1~~=}_{0}$"
      ],
      "text/plain": [
       "<IPython.core.display.Math object>"
      ]
     },
     "metadata": {},
     "output_type": "display_data"
    },
    {
     "data": {
      "text/latex": [
       "$\\displaystyle \\left[\\begin{matrix}\\cos{\\left(\\theta_{1} \\right)} & - \\sin{\\left(\\theta_{1} \\right)} & 0 & 0.5 \\cos{\\left(\\theta_{1} \\right)}\\\\\\sin{\\left(\\theta_{1} \\right)} & \\cos{\\left(\\theta_{1} \\right)} & 0 & 0.5 \\sin{\\left(\\theta_{1} \\right)}\\\\0 & 0 & 1 & 0.65\\\\0 & 0 & 0 & 1\\end{matrix}\\right]$"
      ],
      "text/plain": [
       "<IPython.core.display.Math object>"
      ]
     },
     "metadata": {},
     "output_type": "display_data"
    },
    {
     "data": {
      "text/latex": [
       "$\\displaystyle T^{2~~=}_{1}$"
      ],
      "text/plain": [
       "<IPython.core.display.Math object>"
      ]
     },
     "metadata": {},
     "output_type": "display_data"
    },
    {
     "data": {
      "text/latex": [
       "$\\displaystyle \\left[\\begin{matrix}\\cos{\\left(\\theta_{2} \\right)} & - \\sin{\\left(\\theta_{2} \\right)} & 0 & 0.5 \\cos{\\left(\\theta_{2} \\right)}\\\\\\sin{\\left(\\theta_{2} \\right)} & \\cos{\\left(\\theta_{2} \\right)} & 0 & 0.5 \\sin{\\left(\\theta_{2} \\right)}\\\\0 & 0 & 1 & 0.1\\\\0 & 0 & 0 & 1\\end{matrix}\\right]$"
      ],
      "text/plain": [
       "<IPython.core.display.Math object>"
      ]
     },
     "metadata": {},
     "output_type": "display_data"
    },
    {
     "data": {
      "text/latex": [
       "$\\displaystyle T^{3~~=}_{2}$"
      ],
      "text/plain": [
       "<IPython.core.display.Math object>"
      ]
     },
     "metadata": {},
     "output_type": "display_data"
    },
    {
     "data": {
      "text/latex": [
       "$\\displaystyle \\left[\\begin{matrix}\\cos{\\left(\\theta_{3} \\right)} & \\sin{\\left(\\theta_{3} \\right)} & 0 & 0.5 \\cos{\\left(\\theta_{3} \\right)}\\\\\\sin{\\left(\\theta_{3} \\right)} & - \\cos{\\left(\\theta_{3} \\right)} & 0 & 0.5 \\sin{\\left(\\theta_{3} \\right)}\\\\0 & 0 & -1 & 0\\\\0 & 0 & 0 & 1\\end{matrix}\\right]$"
      ],
      "text/plain": [
       "<IPython.core.display.Math object>"
      ]
     },
     "metadata": {},
     "output_type": "display_data"
    },
    {
     "data": {
      "text/latex": [
       "$\\displaystyle T^{4~~=}_{3}$"
      ],
      "text/plain": [
       "<IPython.core.display.Math object>"
      ]
     },
     "metadata": {},
     "output_type": "display_data"
    },
    {
     "data": {
      "text/latex": [
       "$\\displaystyle \\left[\\begin{matrix}1 & 0 & 0 & 0\\\\0 & 1 & 0 & 0\\\\0 & 0 & 1 & d_{4} + 0.225\\\\0 & 0 & 0 & 1\\end{matrix}\\right]$"
      ],
      "text/plain": [
       "<IPython.core.display.Math object>"
      ]
     },
     "metadata": {},
     "output_type": "display_data"
    },
    {
     "name": "stdout",
     "output_type": "stream",
     "text": [
      "\n",
      "\n",
      "\n"
     ]
    },
    {
     "data": {
      "text/latex": [
       "$\\displaystyle T^{4~~=}_{0}$"
      ],
      "text/plain": [
       "<IPython.core.display.Math object>"
      ]
     },
     "metadata": {},
     "output_type": "display_data"
    },
    {
     "data": {
      "text/latex": [
       "$\\displaystyle \\left[\\begin{matrix}\\cos{\\left(\\theta_{1} + \\theta_{2} + \\theta_{3} \\right)} & \\sin{\\left(\\theta_{1} + \\theta_{2} + \\theta_{3} \\right)} & 0 & 0.5 \\cos{\\left(\\theta_{1} \\right)} + 0.5 \\cos{\\left(\\theta_{1} + \\theta_{2} \\right)} + 0.5 \\cos{\\left(\\theta_{1} + \\theta_{2} + \\theta_{3} \\right)}\\\\\\sin{\\left(\\theta_{1} + \\theta_{2} + \\theta_{3} \\right)} & - \\cos{\\left(\\theta_{1} + \\theta_{2} + \\theta_{3} \\right)} & 0 & 0.5 \\sin{\\left(\\theta_{1} \\right)} + 0.5 \\sin{\\left(\\theta_{1} + \\theta_{2} \\right)} + 0.5 \\sin{\\left(\\theta_{1} + \\theta_{2} + \\theta_{3} \\right)}\\\\0 & 0 & -1 & 0.525 - d_{4}\\\\0 & 0 & 0 & 1\\end{matrix}\\right]$"
      ],
      "text/plain": [
       "<IPython.core.display.Math object>"
      ]
     },
     "metadata": {},
     "output_type": "display_data"
    }
   ],
   "source": [
    "t01 = MTIJ(theta1, 0.65, 0.5, 0, i=0, j=1)\n",
    "show_exp(t01)\n",
    "t12 = MTIJ(theta2, 0.1, 0.5, 0, i=1, j=2)\n",
    "show_exp(t12)\n",
    "t23 = MTIJ(theta3, 0, 0.5, pi, i=2, j=3)\n",
    "show_exp(t23)\n",
    "t34 = MTIJ(0, d4, 0, 0, offset=0.225, i=3, j=4)\n",
    "show_exp(t34)\n",
    "\n",
    "print(\"\\n\\n\")\n",
    "disp.display(disp.Math(latex(symbols((f\"T_{0}^{4}~~= \")))))\n",
    "fkine = t01 @ t12 @ t23 @ t34\n",
    "show_exp(simplify(fkine))\n"
   ]
  }
 ],
 "metadata": {
  "kernelspec": {
   "display_name": "Python 3",
   "language": "python",
   "name": "python3"
  },
  "language_info": {
   "codemirror_mode": {
    "name": "ipython",
    "version": 3
   },
   "file_extension": ".py",
   "mimetype": "text/x-python",
   "name": "python",
   "nbconvert_exporter": "python",
   "pygments_lexer": "ipython3",
   "version": "3.9.13"
  },
  "orig_nbformat": 4
 },
 "nbformat": 4,
 "nbformat_minor": 2
}
